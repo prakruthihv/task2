<html xmlns:v="urn:schemas-microsoft-com:vml"
xmlns:o="urn:schemas-microsoft-com:office:office"
xmlns:w="urn:schemas-microsoft-com:office:word"
xmlns:m="http://schemas.microsoft.com/office/2004/12/omml"
xmlns="http://www.w3.org/TR/REC-html40">

<head>
<meta http-equiv=Content-Type content="text/html; charset=us-ascii">
<meta name=ProgId content=Word.Document>
<meta name=Generator content="Microsoft Word 12">
<meta name=Originator content="Microsoft Word 12">
<link rel=File-List href="pra-Copy1(1)_files/filelist.xml">
<!--[if gte mso 9]><xml>
 <o:DocumentProperties>
  <o:Author>Admin</o:Author>
  <o:Template>Normal</o:Template>
  <o:LastAuthor>Admin</o:LastAuthor>
  <o:Revision>3</o:Revision>
  <o:TotalTime>1</o:TotalTime>
  <o:Created>2020-09-19T12:47:00Z</o:Created>
  <o:LastSaved>2020-09-19T12:48:00Z</o:LastSaved>
  <o:Pages>1</o:Pages>
  <o:Words>7291</o:Words>
  <o:Characters>41565</o:Characters>
  <o:Lines>346</o:Lines>
  <o:Paragraphs>97</o:Paragraphs>
  <o:CharactersWithSpaces>48759</o:CharactersWithSpaces>
  <o:Version>12.00</o:Version>
 </o:DocumentProperties>
</xml><![endif]-->
<link rel=dataStoreItem href="pra-Copy1(1)_files/item0001.xml"
target="pra-Copy1(1)_files/props0002.xml">
<link rel=themeData href="pra-Copy1(1)_files/themedata.thmx">
<link rel=colorSchemeMapping href="pra-Copy1(1)_files/colorschememapping.xml">
<!--[if gte mso 9]><xml>
 <w:WordDocument>
  <w:TrackMoves>false</w:TrackMoves>
  <w:TrackFormatting/>
  <w:ValidateAgainstSchemas/>
  <w:SaveIfXMLInvalid>false</w:SaveIfXMLInvalid>
  <w:IgnoreMixedContent>false</w:IgnoreMixedContent>
  <w:AlwaysShowPlaceholderText>false</w:AlwaysShowPlaceholderText>
  <w:DoNotPromoteQF/>
  <w:LidThemeOther>EN-US</w:LidThemeOther>
  <w:LidThemeAsian>X-NONE</w:LidThemeAsian>
  <w:LidThemeComplexScript>X-NONE</w:LidThemeComplexScript>
  <w:Compatibility>
   <w:BreakWrappedTables/>
   <w:SnapToGridInCell/>
   <w:WrapTextWithPunct/>
   <w:UseAsianBreakRules/>
   <w:DontGrowAutofit/>
   <w:SplitPgBreakAndParaMark/>
   <w:DontVertAlignCellWithSp/>
   <w:DontBreakConstrainedForcedTables/>
   <w:DontVertAlignInTxbx/>
   <w:Word11KerningPairs/>
   <w:CachedColBalance/>
  </w:Compatibility>
  <w:BrowserLevel>MicrosoftInternetExplorer4</w:BrowserLevel>
  <m:mathPr>
   <m:mathFont m:val="Cambria Math"/>
   <m:brkBin m:val="before"/>
   <m:brkBinSub m:val="--"/>
   <m:smallFrac m:val="off"/>
   <m:dispDef/>
   <m:lMargin m:val="0"/>
   <m:rMargin m:val="0"/>
   <m:defJc m:val="centerGroup"/>
   <m:wrapIndent m:val="1440"/>
   <m:intLim m:val="subSup"/>
   <m:naryLim m:val="undOvr"/>
  </m:mathPr></w:WordDocument>
</xml><![endif]--><!--[if gte mso 9]><xml>
 <w:LatentStyles DefLockedState="false" DefUnhideWhenUsed="true"
  DefSemiHidden="true" DefQFormat="false" DefPriority="99"
  LatentStyleCount="267">
  <w:LsdException Locked="false" Priority="0" SemiHidden="false"
   UnhideWhenUsed="false" QFormat="true" Name="Normal"/>
  <w:LsdException Locked="false" Priority="9" SemiHidden="false"
   UnhideWhenUsed="false" QFormat="true" Name="heading 1"/>
  <w:LsdException Locked="false" Priority="9" QFormat="true" Name="heading 2"/>
  <w:LsdException Locked="false" Priority="9" QFormat="true" Name="heading 3"/>
  <w:LsdException Locked="false" Priority="9" QFormat="true" Name="heading 4"/>
  <w:LsdException Locked="false" Priority="9" QFormat="true" Name="heading 5"/>
  <w:LsdException Locked="false" Priority="9" QFormat="true" Name="heading 6"/>
  <w:LsdException Locked="false" Priority="9" QFormat="true" Name="heading 7"/>
  <w:LsdException Locked="false" Priority="9" QFormat="true" Name="heading 8"/>
  <w:LsdException Locked="false" Priority="9" QFormat="true" Name="heading 9"/>
  <w:LsdException Locked="false" Priority="39" Name="toc 1"/>
  <w:LsdException Locked="false" Priority="39" Name="toc 2"/>
  <w:LsdException Locked="false" Priority="39" Name="toc 3"/>
  <w:LsdException Locked="false" Priority="39" Name="toc 4"/>
  <w:LsdException Locked="false" Priority="39" Name="toc 5"/>
  <w:LsdException Locked="false" Priority="39" Name="toc 6"/>
  <w:LsdException Locked="false" Priority="39" Name="toc 7"/>
  <w:LsdException Locked="false" Priority="39" Name="toc 8"/>
  <w:LsdException Locked="false" Priority="39" Name="toc 9"/>
  <w:LsdException Locked="false" Priority="35" QFormat="true" Name="caption"/>
  <w:LsdException Locked="false" Priority="10" SemiHidden="false"
   UnhideWhenUsed="false" QFormat="true" Name="Title"/>
  <w:LsdException Locked="false" Priority="1" Name="Default Paragraph Font"/>
  <w:LsdException Locked="false" Priority="11" SemiHidden="false"
   UnhideWhenUsed="false" QFormat="true" Name="Subtitle"/>
  <w:LsdException Locked="false" Priority="22" SemiHidden="false"
   UnhideWhenUsed="false" QFormat="true" Name="Strong"/>
  <w:LsdException Locked="false" Priority="20" SemiHidden="false"
   UnhideWhenUsed="false" QFormat="true" Name="Emphasis"/>
  <w:LsdException Locked="false" Priority="59" SemiHidden="false"
   UnhideWhenUsed="false" Name="Table Grid"/>
  <w:LsdException Locked="false" UnhideWhenUsed="false" Name="Placeholder Text"/>
  <w:LsdException Locked="false" Priority="1" SemiHidden="false"
   UnhideWhenUsed="false" QFormat="true" Name="No Spacing"/>
  <w:LsdException Locked="false" Priority="60" SemiHidden="false"
   UnhideWhenUsed="false" Name="Light Shading"/>
  <w:LsdException Locked="false" Priority="61" SemiHidden="false"
   UnhideWhenUsed="false" Name="Light List"/>
  <w:LsdException Locked="false" Priority="62" SemiHidden="false"
   UnhideWhenUsed="false" Name="Light Grid"/>
  <w:LsdException Locked="false" Priority="63" SemiHidden="false"
   UnhideWhenUsed="false" Name="Medium Shading 1"/>
  <w:LsdException Locked="false" Priority="64" SemiHidden="false"
   UnhideWhenUsed="false" Name="Medium Shading 2"/>
  <w:LsdException Locked="false" Priority="65" SemiHidden="false"
   UnhideWhenUsed="false" Name="Medium List 1"/>
  <w:LsdException Locked="false" Priority="66" SemiHidden="false"
   UnhideWhenUsed="false" Name="Medium List 2"/>
  <w:LsdException Locked="false" Priority="67" SemiHidden="false"
   UnhideWhenUsed="false" Name="Medium Grid 1"/>
  <w:LsdException Locked="false" Priority="68" SemiHidden="false"
   UnhideWhenUsed="false" Name="Medium Grid 2"/>
  <w:LsdException Locked="false" Priority="69" SemiHidden="false"
   UnhideWhenUsed="false" Name="Medium Grid 3"/>
  <w:LsdException Locked="false" Priority="70" SemiHidden="false"
   UnhideWhenUsed="false" Name="Dark List"/>
  <w:LsdException Locked="false" Priority="71" SemiHidden="false"
   UnhideWhenUsed="false" Name="Colorful Shading"/>
  <w:LsdException Locked="false" Priority="72" SemiHidden="false"
   UnhideWhenUsed="false" Name="Colorful List"/>
  <w:LsdException Locked="false" Priority="73" SemiHidden="false"
   UnhideWhenUsed="false" Name="Colorful Grid"/>
  <w:LsdException Locked="false" Priority="60" SemiHidden="false"
   UnhideWhenUsed="false" Name="Light Shading Accent 1"/>
  <w:LsdException Locked="false" Priority="61" SemiHidden="false"
   UnhideWhenUsed="false" Name="Light List Accent 1"/>
  <w:LsdException Locked="false" Priority="62" SemiHidden="false"
   UnhideWhenUsed="false" Name="Light Grid Accent 1"/>
  <w:LsdException Locked="false" Priority="63" SemiHidden="false"
   UnhideWhenUsed="false" Name="Medium Shading 1 Accent 1"/>
  <w:LsdException Locked="false" Priority="64" SemiHidden="false"
   UnhideWhenUsed="false" Name="Medium Shading 2 Accent 1"/>
  <w:LsdException Locked="false" Priority="65" SemiHidden="false"
   UnhideWhenUsed="false" Name="Medium List 1 Accent 1"/>
  <w:LsdException Locked="false" UnhideWhenUsed="false" Name="Revision"/>
  <w:LsdException Locked="false" Priority="34" SemiHidden="false"
   UnhideWhenUsed="false" QFormat="true" Name="List Paragraph"/>
  <w:LsdException Locked="false" Priority="29" SemiHidden="false"
   UnhideWhenUsed="false" QFormat="true" Name="Quote"/>
  <w:LsdException Locked="false" Priority="30" SemiHidden="false"
   UnhideWhenUsed="false" QFormat="true" Name="Intense Quote"/>
  <w:LsdException Locked="false" Priority="66" SemiHidden="false"
   UnhideWhenUsed="false" Name="Medium List 2 Accent 1"/>
  <w:LsdException Locked="false" Priority="67" SemiHidden="false"
   UnhideWhenUsed="false" Name="Medium Grid 1 Accent 1"/>
  <w:LsdException Locked="false" Priority="68" SemiHidden="false"
   UnhideWhenUsed="false" Name="Medium Grid 2 Accent 1"/>
  <w:LsdException Locked="false" Priority="69" SemiHidden="false"
   UnhideWhenUsed="false" Name="Medium Grid 3 Accent 1"/>
  <w:LsdException Locked="false" Priority="70" SemiHidden="false"
   UnhideWhenUsed="false" Name="Dark List Accent 1"/>
  <w:LsdException Locked="false" Priority="71" SemiHidden="false"
   UnhideWhenUsed="false" Name="Colorful Shading Accent 1"/>
  <w:LsdException Locked="false" Priority="72" SemiHidden="false"
   UnhideWhenUsed="false" Name="Colorful List Accent 1"/>
  <w:LsdException Locked="false" Priority="73" SemiHidden="false"
   UnhideWhenUsed="false" Name="Colorful Grid Accent 1"/>
  <w:LsdException Locked="false" Priority="60" SemiHidden="false"
   UnhideWhenUsed="false" Name="Light Shading Accent 2"/>
  <w:LsdException Locked="false" Priority="61" SemiHidden="false"
   UnhideWhenUsed="false" Name="Light List Accent 2"/>
  <w:LsdException Locked="false" Priority="62" SemiHidden="false"
   UnhideWhenUsed="false" Name="Light Grid Accent 2"/>
  <w:LsdException Locked="false" Priority="63" SemiHidden="false"
   UnhideWhenUsed="false" Name="Medium Shading 1 Accent 2"/>
  <w:LsdException Locked="false" Priority="64" SemiHidden="false"
   UnhideWhenUsed="false" Name="Medium Shading 2 Accent 2"/>
  <w:LsdException Locked="false" Priority="65" SemiHidden="false"
   UnhideWhenUsed="false" Name="Medium List 1 Accent 2"/>
  <w:LsdException Locked="false" Priority="66" SemiHidden="false"
   UnhideWhenUsed="false" Name="Medium List 2 Accent 2"/>
  <w:LsdException Locked="false" Priority="67" SemiHidden="false"
   UnhideWhenUsed="false" Name="Medium Grid 1 Accent 2"/>
  <w:LsdException Locked="false" Priority="68" SemiHidden="false"
   UnhideWhenUsed="false" Name="Medium Grid 2 Accent 2"/>
  <w:LsdException Locked="false" Priority="69" SemiHidden="false"
   UnhideWhenUsed="false" Name="Medium Grid 3 Accent 2"/>
  <w:LsdException Locked="false" Priority="70" SemiHidden="false"
   UnhideWhenUsed="false" Name="Dark List Accent 2"/>
  <w:LsdException Locked="false" Priority="71" SemiHidden="false"
   UnhideWhenUsed="false" Name="Colorful Shading Accent 2"/>
  <w:LsdException Locked="false" Priority="72" SemiHidden="false"
   UnhideWhenUsed="false" Name="Colorful List Accent 2"/>
  <w:LsdException Locked="false" Priority="73" SemiHidden="false"
   UnhideWhenUsed="false" Name="Colorful Grid Accent 2"/>
  <w:LsdException Locked="false" Priority="60" SemiHidden="false"
   UnhideWhenUsed="false" Name="Light Shading Accent 3"/>
  <w:LsdException Locked="false" Priority="61" SemiHidden="false"
   UnhideWhenUsed="false" Name="Light List Accent 3"/>
  <w:LsdException Locked="false" Priority="62" SemiHidden="false"
   UnhideWhenUsed="false" Name="Light Grid Accent 3"/>
  <w:LsdException Locked="false" Priority="63" SemiHidden="false"
   UnhideWhenUsed="false" Name="Medium Shading 1 Accent 3"/>
  <w:LsdException Locked="false" Priority="64" SemiHidden="false"
   UnhideWhenUsed="false" Name="Medium Shading 2 Accent 3"/>
  <w:LsdException Locked="false" Priority="65" SemiHidden="false"
   UnhideWhenUsed="false" Name="Medium List 1 Accent 3"/>
  <w:LsdException Locked="false" Priority="66" SemiHidden="false"
   UnhideWhenUsed="false" Name="Medium List 2 Accent 3"/>
  <w:LsdException Locked="false" Priority="67" SemiHidden="false"
   UnhideWhenUsed="false" Name="Medium Grid 1 Accent 3"/>
  <w:LsdException Locked="false" Priority="68" SemiHidden="false"
   UnhideWhenUsed="false" Name="Medium Grid 2 Accent 3"/>
  <w:LsdException Locked="false" Priority="69" SemiHidden="false"
   UnhideWhenUsed="false" Name="Medium Grid 3 Accent 3"/>
  <w:LsdException Locked="false" Priority="70" SemiHidden="false"
   UnhideWhenUsed="false" Name="Dark List Accent 3"/>
  <w:LsdException Locked="false" Priority="71" SemiHidden="false"
   UnhideWhenUsed="false" Name="Colorful Shading Accent 3"/>
  <w:LsdException Locked="false" Priority="72" SemiHidden="false"
   UnhideWhenUsed="false" Name="Colorful List Accent 3"/>
  <w:LsdException Locked="false" Priority="73" SemiHidden="false"
   UnhideWhenUsed="false" Name="Colorful Grid Accent 3"/>
  <w:LsdException Locked="false" Priority="60" SemiHidden="false"
   UnhideWhenUsed="false" Name="Light Shading Accent 4"/>
  <w:LsdException Locked="false" Priority="61" SemiHidden="false"
   UnhideWhenUsed="false" Name="Light List Accent 4"/>
  <w:LsdException Locked="false" Priority="62" SemiHidden="false"
   UnhideWhenUsed="false" Name="Light Grid Accent 4"/>
  <w:LsdException Locked="false" Priority="63" SemiHidden="false"
   UnhideWhenUsed="false" Name="Medium Shading 1 Accent 4"/>
  <w:LsdException Locked="false" Priority="64" SemiHidden="false"
   UnhideWhenUsed="false" Name="Medium Shading 2 Accent 4"/>
  <w:LsdException Locked="false" Priority="65" SemiHidden="false"
   UnhideWhenUsed="false" Name="Medium List 1 Accent 4"/>
  <w:LsdException Locked="false" Priority="66" SemiHidden="false"
   UnhideWhenUsed="false" Name="Medium List 2 Accent 4"/>
  <w:LsdException Locked="false" Priority="67" SemiHidden="false"
   UnhideWhenUsed="false" Name="Medium Grid 1 Accent 4"/>
  <w:LsdException Locked="false" Priority="68" SemiHidden="false"
   UnhideWhenUsed="false" Name="Medium Grid 2 Accent 4"/>
  <w:LsdException Locked="false" Priority="69" SemiHidden="false"
   UnhideWhenUsed="false" Name="Medium Grid 3 Accent 4"/>
  <w:LsdException Locked="false" Priority="70" SemiHidden="false"
   UnhideWhenUsed="false" Name="Dark List Accent 4"/>
  <w:LsdException Locked="false" Priority="71" SemiHidden="false"
   UnhideWhenUsed="false" Name="Colorful Shading Accent 4"/>
  <w:LsdException Locked="false" Priority="72" SemiHidden="false"
   UnhideWhenUsed="false" Name="Colorful List Accent 4"/>
  <w:LsdException Locked="false" Priority="73" SemiHidden="false"
   UnhideWhenUsed="false" Name="Colorful Grid Accent 4"/>
  <w:LsdException Locked="false" Priority="60" SemiHidden="false"
   UnhideWhenUsed="false" Name="Light Shading Accent 5"/>
  <w:LsdException Locked="false" Priority="61" SemiHidden="false"
   UnhideWhenUsed="false" Name="Light List Accent 5"/>
  <w:LsdException Locked="false" Priority="62" SemiHidden="false"
   UnhideWhenUsed="false" Name="Light Grid Accent 5"/>
  <w:LsdException Locked="false" Priority="63" SemiHidden="false"
   UnhideWhenUsed="false" Name="Medium Shading 1 Accent 5"/>
  <w:LsdException Locked="false" Priority="64" SemiHidden="false"
   UnhideWhenUsed="false" Name="Medium Shading 2 Accent 5"/>
  <w:LsdException Locked="false" Priority="65" SemiHidden="false"
   UnhideWhenUsed="false" Name="Medium List 1 Accent 5"/>
  <w:LsdException Locked="false" Priority="66" SemiHidden="false"
   UnhideWhenUsed="false" Name="Medium List 2 Accent 5"/>
  <w:LsdException Locked="false" Priority="67" SemiHidden="false"
   UnhideWhenUsed="false" Name="Medium Grid 1 Accent 5"/>
  <w:LsdException Locked="false" Priority="68" SemiHidden="false"
   UnhideWhenUsed="false" Name="Medium Grid 2 Accent 5"/>
  <w:LsdException Locked="false" Priority="69" SemiHidden="false"
   UnhideWhenUsed="false" Name="Medium Grid 3 Accent 5"/>
  <w:LsdException Locked="false" Priority="70" SemiHidden="false"
   UnhideWhenUsed="false" Name="Dark List Accent 5"/>
  <w:LsdException Locked="false" Priority="71" SemiHidden="false"
   UnhideWhenUsed="false" Name="Colorful Shading Accent 5"/>
  <w:LsdException Locked="false" Priority="72" SemiHidden="false"
   UnhideWhenUsed="false" Name="Colorful List Accent 5"/>
  <w:LsdException Locked="false" Priority="73" SemiHidden="false"
   UnhideWhenUsed="false" Name="Colorful Grid Accent 5"/>
  <w:LsdException Locked="false" Priority="60" SemiHidden="false"
   UnhideWhenUsed="false" Name="Light Shading Accent 6"/>
  <w:LsdException Locked="false" Priority="61" SemiHidden="false"
   UnhideWhenUsed="false" Name="Light List Accent 6"/>
  <w:LsdException Locked="false" Priority="62" SemiHidden="false"
   UnhideWhenUsed="false" Name="Light Grid Accent 6"/>
  <w:LsdException Locked="false" Priority="63" SemiHidden="false"
   UnhideWhenUsed="false" Name="Medium Shading 1 Accent 6"/>
  <w:LsdException Locked="false" Priority="64" SemiHidden="false"
   UnhideWhenUsed="false" Name="Medium Shading 2 Accent 6"/>
  <w:LsdException Locked="false" Priority="65" SemiHidden="false"
   UnhideWhenUsed="false" Name="Medium List 1 Accent 6"/>
  <w:LsdException Locked="false" Priority="66" SemiHidden="false"
   UnhideWhenUsed="false" Name="Medium List 2 Accent 6"/>
  <w:LsdException Locked="false" Priority="67" SemiHidden="false"
   UnhideWhenUsed="false" Name="Medium Grid 1 Accent 6"/>
  <w:LsdException Locked="false" Priority="68" SemiHidden="false"
   UnhideWhenUsed="false" Name="Medium Grid 2 Accent 6"/>
  <w:LsdException Locked="false" Priority="69" SemiHidden="false"
   UnhideWhenUsed="false" Name="Medium Grid 3 Accent 6"/>
  <w:LsdException Locked="false" Priority="70" SemiHidden="false"
   UnhideWhenUsed="false" Name="Dark List Accent 6"/>
  <w:LsdException Locked="false" Priority="71" SemiHidden="false"
   UnhideWhenUsed="false" Name="Colorful Shading Accent 6"/>
  <w:LsdException Locked="false" Priority="72" SemiHidden="false"
   UnhideWhenUsed="false" Name="Colorful List Accent 6"/>
  <w:LsdException Locked="false" Priority="73" SemiHidden="false"
   UnhideWhenUsed="false" Name="Colorful Grid Accent 6"/>
  <w:LsdException Locked="false" Priority="19" SemiHidden="false"
   UnhideWhenUsed="false" QFormat="true" Name="Subtle Emphasis"/>
  <w:LsdException Locked="false" Priority="21" SemiHidden="false"
   UnhideWhenUsed="false" QFormat="true" Name="Intense Emphasis"/>
  <w:LsdException Locked="false" Priority="31" SemiHidden="false"
   UnhideWhenUsed="false" QFormat="true" Name="Subtle Reference"/>
  <w:LsdException Locked="false" Priority="32" SemiHidden="false"
   UnhideWhenUsed="false" QFormat="true" Name="Intense Reference"/>
  <w:LsdException Locked="false" Priority="33" SemiHidden="false"
   UnhideWhenUsed="false" QFormat="true" Name="Book Title"/>
  <w:LsdException Locked="false" Priority="37" Name="Bibliography"/>
  <w:LsdException Locked="false" Priority="39" QFormat="true" Name="TOC Heading"/>
 </w:LatentStyles>
</xml><![endif]-->
<style scoped>
<!--
\n    .dataframe tbody tr th:only-of-type {\n        vertical-align: middle;\n    }
\n\n    .dataframe tbody tr th {\n        vertical-align: top;\n    }
\n\n    .dataframe thead th {\n        text-align: right;\n    }
\n</style>\n<table border=\"1\" class=\"dataframe\">\n  
\n    .dataframe tbody tr th:only-of-type {\n        vertical-align: middle;\n    }
\n\n    .dataframe tbody tr th {\n        vertical-align: top;\n    }
\n\n    .dataframe thead th {\n        text-align: right;\n    }
\n</style>\n<table border=\"1\" class=\"dataframe\">\n  
\n    .dataframe tbody tr th:only-of-type {\n        vertical-align: middle;\n    }
\n\n    .dataframe tbody tr th {\n        vertical-align: top;\n    }
\n\n    .dataframe thead th {\n        text-align: right;\n    }
\n</style>\n<table border=\"1\" class=\"dataframe\">\n  

 /* Font Definitions */
 @font-face
	{font-family:"Cambria Math";
	panose-1:0 0 0 0 0 0 0 0 0 0;
	mso-font-charset:1;
	mso-generic-font-family:roman;
	mso-font-format:other;
	mso-font-pitch:variable;
	mso-font-signature:0 0 0 0 0 0;}
@font-face
	{font-family:Cambria;
	panose-1:2 4 5 3 5 4 6 3 2 4;
	mso-font-charset:0;
	mso-generic-font-family:roman;
	mso-font-pitch:variable;
	mso-font-signature:-536869121 1107305727 33554432 0 415 0;}
 /* Style Definitions */
 p.MsoNormal, li.MsoNormal, div.MsoNormal
	{mso-style-unhide:no;
	mso-style-qformat:yes;
	mso-style-parent:"";
	margin:0cm;
	margin-bottom:.0001pt;
	mso-pagination:widow-orphan;
	font-size:12.0pt;
	font-family:"Times New Roman","serif";
	mso-fareast-font-family:"Times New Roman";
	mso-fareast-theme-font:minor-fareast;}
h1
	{mso-style-priority:9;
	mso-style-unhide:no;
	mso-style-qformat:yes;
	mso-style-link:"Heading 1 Char";
	mso-style-next:Normal;
	margin-top:24.0pt;
	margin-right:0cm;
	margin-bottom:0cm;
	margin-left:0cm;
	margin-bottom:.0001pt;
	mso-pagination:widow-orphan lines-together;
	page-break-after:avoid;
	mso-outline-level:1;
	font-size:14.0pt;
	font-family:"Cambria","serif";
	mso-ascii-font-family:Cambria;
	mso-ascii-theme-font:major-latin;
	mso-fareast-font-family:"Times New Roman";
	mso-fareast-theme-font:major-fareast;
	mso-hansi-font-family:Cambria;
	mso-hansi-theme-font:major-latin;
	mso-bidi-font-family:"Times New Roman";
	mso-bidi-theme-font:major-bidi;
	color:#365F91;
	mso-themecolor:accent1;
	mso-themeshade:191;
	mso-font-kerning:0pt;}
h2
	{mso-style-priority:9;
	mso-style-qformat:yes;
	mso-style-link:"Heading 2 Char";
	mso-style-next:Normal;
	margin-top:10.0pt;
	margin-right:0cm;
	margin-bottom:0cm;
	margin-left:0cm;
	margin-bottom:.0001pt;
	mso-pagination:widow-orphan lines-together;
	page-break-after:avoid;
	mso-outline-level:2;
	font-size:13.0pt;
	font-family:"Cambria","serif";
	mso-ascii-font-family:Cambria;
	mso-ascii-theme-font:major-latin;
	mso-fareast-font-family:"Times New Roman";
	mso-fareast-theme-font:major-fareast;
	mso-hansi-font-family:Cambria;
	mso-hansi-theme-font:major-latin;
	mso-bidi-font-family:"Times New Roman";
	mso-bidi-theme-font:major-bidi;
	color:#4F81BD;
	mso-themecolor:accent1;}
h3
	{mso-style-priority:9;
	mso-style-qformat:yes;
	mso-style-link:"Heading 3 Char";
	mso-style-next:Normal;
	margin-top:10.0pt;
	margin-right:0cm;
	margin-bottom:0cm;
	margin-left:0cm;
	margin-bottom:.0001pt;
	mso-pagination:widow-orphan lines-together;
	page-break-after:avoid;
	mso-outline-level:3;
	font-size:12.0pt;
	font-family:"Cambria","serif";
	mso-ascii-font-family:Cambria;
	mso-ascii-theme-font:major-latin;
	mso-fareast-font-family:"Times New Roman";
	mso-fareast-theme-font:major-fareast;
	mso-hansi-font-family:Cambria;
	mso-hansi-theme-font:major-latin;
	mso-bidi-font-family:"Times New Roman";
	mso-bidi-theme-font:major-bidi;
	color:#4F81BD;
	mso-themecolor:accent1;}
h4
	{mso-style-priority:9;
	mso-style-qformat:yes;
	mso-style-link:"Heading 4 Char";
	mso-style-next:Normal;
	margin-top:10.0pt;
	margin-right:0cm;
	margin-bottom:0cm;
	margin-left:0cm;
	margin-bottom:.0001pt;
	mso-pagination:widow-orphan lines-together;
	page-break-after:avoid;
	mso-outline-level:4;
	font-size:12.0pt;
	font-family:"Cambria","serif";
	mso-ascii-font-family:Cambria;
	mso-ascii-theme-font:major-latin;
	mso-fareast-font-family:"Times New Roman";
	mso-fareast-theme-font:major-fareast;
	mso-hansi-font-family:Cambria;
	mso-hansi-theme-font:major-latin;
	mso-bidi-font-family:"Times New Roman";
	mso-bidi-theme-font:major-bidi;
	color:#4F81BD;
	mso-themecolor:accent1;
	font-style:italic;}
h5
	{mso-style-priority:9;
	mso-style-qformat:yes;
	mso-style-link:"Heading 5 Char";
	mso-style-next:Normal;
	margin-top:10.0pt;
	margin-right:0cm;
	margin-bottom:0cm;
	margin-left:0cm;
	margin-bottom:.0001pt;
	mso-pagination:widow-orphan lines-together;
	page-break-after:avoid;
	mso-outline-level:5;
	font-size:12.0pt;
	font-family:"Cambria","serif";
	mso-ascii-font-family:Cambria;
	mso-ascii-theme-font:major-latin;
	mso-fareast-font-family:"Times New Roman";
	mso-fareast-theme-font:major-fareast;
	mso-hansi-font-family:Cambria;
	mso-hansi-theme-font:major-latin;
	mso-bidi-font-family:"Times New Roman";
	mso-bidi-theme-font:major-bidi;
	color:#243F60;
	mso-themecolor:accent1;
	mso-themeshade:127;
	font-weight:normal;}
h6
	{mso-style-priority:9;
	mso-style-qformat:yes;
	mso-style-link:"Heading 6 Char";
	mso-style-next:Normal;
	margin-top:10.0pt;
	margin-right:0cm;
	margin-bottom:0cm;
	margin-left:0cm;
	margin-bottom:.0001pt;
	mso-pagination:widow-orphan lines-together;
	page-break-after:avoid;
	mso-outline-level:6;
	font-size:12.0pt;
	font-family:"Cambria","serif";
	mso-ascii-font-family:Cambria;
	mso-ascii-theme-font:major-latin;
	mso-fareast-font-family:"Times New Roman";
	mso-fareast-theme-font:major-fareast;
	mso-hansi-font-family:Cambria;
	mso-hansi-theme-font:major-latin;
	mso-bidi-font-family:"Times New Roman";
	mso-bidi-theme-font:major-bidi;
	color:#243F60;
	mso-themecolor:accent1;
	mso-themeshade:127;
	font-weight:normal;
	font-style:italic;}
p.MsoNoSpacing, li.MsoNoSpacing, div.MsoNoSpacing
	{mso-style-priority:1;
	mso-style-unhide:no;
	mso-style-qformat:yes;
	mso-style-parent:"";
	margin:0cm;
	margin-bottom:.0001pt;
	mso-pagination:widow-orphan;
	font-size:12.0pt;
	font-family:"Times New Roman","serif";
	mso-fareast-font-family:"Times New Roman";
	mso-fareast-theme-font:minor-fareast;}
span.Heading1Char
	{mso-style-name:"Heading 1 Char";
	mso-style-priority:9;
	mso-style-unhide:no;
	mso-style-locked:yes;
	mso-style-link:"Heading 1";
	mso-ansi-font-size:14.0pt;
	mso-bidi-font-size:14.0pt;
	font-family:"Cambria","serif";
	mso-ascii-font-family:Cambria;
	mso-ascii-theme-font:major-latin;
	mso-fareast-font-family:"Times New Roman";
	mso-fareast-theme-font:major-fareast;
	mso-hansi-font-family:Cambria;
	mso-hansi-theme-font:major-latin;
	mso-bidi-font-family:"Times New Roman";
	mso-bidi-theme-font:major-bidi;
	color:#365F91;
	mso-themecolor:accent1;
	mso-themeshade:191;
	font-weight:bold;}
span.Heading2Char
	{mso-style-name:"Heading 2 Char";
	mso-style-priority:9;
	mso-style-unhide:no;
	mso-style-locked:yes;
	mso-style-link:"Heading 2";
	mso-ansi-font-size:13.0pt;
	mso-bidi-font-size:13.0pt;
	font-family:"Cambria","serif";
	mso-ascii-font-family:Cambria;
	mso-ascii-theme-font:major-latin;
	mso-fareast-font-family:"Times New Roman";
	mso-fareast-theme-font:major-fareast;
	mso-hansi-font-family:Cambria;
	mso-hansi-theme-font:major-latin;
	mso-bidi-font-family:"Times New Roman";
	mso-bidi-theme-font:major-bidi;
	color:#4F81BD;
	mso-themecolor:accent1;
	font-weight:bold;}
span.Heading3Char
	{mso-style-name:"Heading 3 Char";
	mso-style-priority:9;
	mso-style-unhide:no;
	mso-style-locked:yes;
	mso-style-link:"Heading 3";
	mso-ansi-font-size:12.0pt;
	mso-bidi-font-size:12.0pt;
	font-family:"Cambria","serif";
	mso-ascii-font-family:Cambria;
	mso-ascii-theme-font:major-latin;
	mso-fareast-font-family:"Times New Roman";
	mso-fareast-theme-font:major-fareast;
	mso-hansi-font-family:Cambria;
	mso-hansi-theme-font:major-latin;
	mso-bidi-font-family:"Times New Roman";
	mso-bidi-theme-font:major-bidi;
	color:#4F81BD;
	mso-themecolor:accent1;
	font-weight:bold;}
span.Heading4Char
	{mso-style-name:"Heading 4 Char";
	mso-style-priority:9;
	mso-style-unhide:no;
	mso-style-locked:yes;
	mso-style-link:"Heading 4";
	mso-ansi-font-size:12.0pt;
	mso-bidi-font-size:12.0pt;
	font-family:"Cambria","serif";
	mso-ascii-font-family:Cambria;
	mso-ascii-theme-font:major-latin;
	mso-fareast-font-family:"Times New Roman";
	mso-fareast-theme-font:major-fareast;
	mso-hansi-font-family:Cambria;
	mso-hansi-theme-font:major-latin;
	mso-bidi-font-family:"Times New Roman";
	mso-bidi-theme-font:major-bidi;
	color:#4F81BD;
	mso-themecolor:accent1;
	font-weight:bold;
	font-style:italic;}
span.Heading5Char
	{mso-style-name:"Heading 5 Char";
	mso-style-priority:9;
	mso-style-unhide:no;
	mso-style-locked:yes;
	mso-style-link:"Heading 5";
	mso-ansi-font-size:12.0pt;
	mso-bidi-font-size:12.0pt;
	font-family:"Cambria","serif";
	mso-ascii-font-family:Cambria;
	mso-ascii-theme-font:major-latin;
	mso-fareast-font-family:"Times New Roman";
	mso-fareast-theme-font:major-fareast;
	mso-hansi-font-family:Cambria;
	mso-hansi-theme-font:major-latin;
	mso-bidi-font-family:"Times New Roman";
	mso-bidi-theme-font:major-bidi;
	color:#243F60;
	mso-themecolor:accent1;
	mso-themeshade:127;}
span.Heading6Char
	{mso-style-name:"Heading 6 Char";
	mso-style-priority:9;
	mso-style-unhide:no;
	mso-style-locked:yes;
	mso-style-link:"Heading 6";
	mso-ansi-font-size:12.0pt;
	mso-bidi-font-size:12.0pt;
	font-family:"Cambria","serif";
	mso-ascii-font-family:Cambria;
	mso-ascii-theme-font:major-latin;
	mso-fareast-font-family:"Times New Roman";
	mso-fareast-theme-font:major-fareast;
	mso-hansi-font-family:Cambria;
	mso-hansi-theme-font:major-latin;
	mso-bidi-font-family:"Times New Roman";
	mso-bidi-theme-font:major-bidi;
	color:#243F60;
	mso-themecolor:accent1;
	mso-themeshade:127;
	font-style:italic;}
.MsoChpDefault
	{mso-style-type:export-only;
	mso-default-props:yes;
	font-size:10.0pt;
	mso-ansi-font-size:10.0pt;
	mso-bidi-font-size:10.0pt;}
@page Section1
	{size:612.0pt 792.0pt;
	margin:72.0pt 72.0pt 72.0pt 72.0pt;
	mso-header-margin:35.4pt;
	mso-footer-margin:35.4pt;
	mso-paper-source:0;}
div.Section1
	{page:Section1;}
-->
</style>
<!--[if gte mso 10]>
<style scoped>
 /* Style Definitions */
 table.MsoNormalTable
	{mso-style-name:"Table Normal";
	mso-tstyle-rowband-size:0;
	mso-tstyle-colband-size:0;
	mso-style-noshow:yes;
	mso-style-priority:99;
	mso-style-qformat:yes;
	mso-style-parent:"";
	mso-padding-alt:0cm 5.4pt 0cm 5.4pt;
	mso-para-margin:0cm;
	mso-para-margin-bottom:.0001pt;
	mso-pagination:widow-orphan;
	font-size:10.0pt;
	font-family:"Times New Roman","serif";}
</style>
<![endif]--><!--[if gte mso 9]><xml>
 <o:shapedefaults v:ext="edit" spidmax="2050"/>
</xml><![endif]--><!--[if gte mso 9]><xml>
 <o:shapelayout v:ext="edit">
  <o:idmap v:ext="edit" data="1"/>
 </o:shapelayout></xml><![endif]-->
</head>

<body lang=EN-US style='tab-interval:36.0pt'>

<div class=Section1>

<h6><span style='mso-fareast-font-family:"Times New Roman"'>{&quot;cells&quot;:[{&quot;metadata&quot;:{&quot;trusted&quot;:true},&quot;cell_type&quot;:&quot;markdown&quot;,&quot;source&quot;:&quot;
task2-to to explore supervised learning<br>
In this regression taskwe will predict the precentage of marks that a student
is expected to scorebased upon the number of hours they studied what will be
predicted score study for 9.25 hrs in a day\n
\n&quot;},{&quot;metadata&quot;:{&quot;trusted&quot;:true},&quot;cell_type&quot;:&quot;code&quot;,&quot;source&quot;:&quot;#
importing necessary files \nimport pandas as pd\nimport numpy as np\nfrom
matplotlib import pyplot as plt\n%matplotlib
inline&quot;,&quot;execution_count&quot;:null,&quot;outputs&quot;:[]},{&quot;metadata&quot;:{&quot;trusted&quot;:true},&quot;cell_type&quot;:&quot;code&quot;,&quot;source&quot;:&quot;#
reading a data to a dataframe\ndata =
pd.read_csv('https://bit.ly/w-data')&quot;,&quot;execution_count&quot;:3,&quot;outputs&quot;:[]},{&quot;metadata&quot;:{&quot;trusted&quot;:true},&quot;cell_type&quot;:&quot;code&quot;,&quot;source&quot;:&quot;data.head()&quot;,&quot;execution_count&quot;:4,&quot;outputs&quot;:[{&quot;data&quot;:{&quot;text/html&quot;:&quot;<o:p></o:p></span></h6>

<div>

<p class=MsoNormal><b><span style='mso-fareast-font-family:"Times New Roman"'>\n\n
\n \n Hours\n Scores\n \n \n \n \n 0\n 2.5\n 21\n \n \n 1\n 5.1\n 47\n \n \n
2\n 3.2\n 27\n \n \n 3\n 8.5\n 75\n \n \n 4\n 3.5\n 30\n \n \n\n<o:p></o:p></span></b></p>

</div>

<p class=MsoNormal><b><span style='mso-fareast-font-family:"Times New Roman"'>&quot;,&quot;text/plain&quot;:&quot;
Hours Scores\n0 2.5 21\n1 5.1 47\n2 3.2 27\n3 8.5 75\n4 3.5
30&quot;},&quot;execution_count&quot;:4,&quot;metadata&quot;:{},&quot;output_type&quot;:&quot;execute_result&quot;}]},{&quot;metadata&quot;:{&quot;scrolled&quot;:true,&quot;trusted&quot;:true},&quot;cell_type&quot;:&quot;code&quot;,&quot;source&quot;:&quot;data.shape&quot;,&quot;execution_count&quot;:6,&quot;outputs&quot;:[{&quot;data&quot;:{&quot;text/plain&quot;:&quot;(25,
2)&quot;},&quot;execution_count&quot;:6,&quot;metadata&quot;:{},&quot;output_type&quot;:&quot;execute_result&quot;}]},{&quot;metadata&quot;:{&quot;trusted&quot;:true},&quot;cell_type&quot;:&quot;code&quot;,&quot;source&quot;:&quot;data.describe()&quot;,&quot;execution_count&quot;:7,&quot;outputs&quot;:[{&quot;data&quot;:{&quot;text/html&quot;:&quot;<o:p></o:p></span></b></p>

<div>

<p class=MsoNormal><b><span style='mso-fareast-font-family:"Times New Roman"'>\n\n
\n \n Hours\n Scores\n \n \n \n \n count\n 25.000000\n 25.000000\n \n \n mean\n
5.012000\n 51.480000\n \n \n std\n 2.525094\n 25.286887\n \n \n min\n
1.100000\n 17.000000\n \n \n 25%\n 2.700000\n 30.000000\n \n \n 50%\n
4.800000\n 47.000000\n \n \n 75%\n 7.400000\n 75.000000\n \n \n max\n
9.200000\n 95.000000\n \n \n\n<o:p></o:p></span></b></p>

</div>

<p class=MsoNormal><b><span style='mso-fareast-font-family:"Times New Roman"'>&quot;,&quot;text/plain&quot;:&quot;
Hours Scores\ncount 25.000000 25.000000\nmean 5.012000 51.480000\nstd 2.525094
25.286887\nmin 1.100000 17.000000\n25% 2.700000 30.000000\n50% 4.800000
47.000000\n75% 7.400000 75.000000\nmax 9.200000
95.000000&quot;},&quot;execution_count&quot;:7,&quot;metadata&quot;:{},&quot;output_type&quot;:&quot;execute_result&quot;}]},{&quot;metadata&quot;:{&quot;trusted&quot;:true},&quot;cell_type&quot;:&quot;code&quot;,&quot;source&quot;:&quot;data.plot(x='Hours',y='Scores',style='o')\nplt.title('Hours
vs Perecntage')\nplt.xlabel('Hours Studied')\nplt.ylabel('Scores
obtained')\nplt.show()\n
&quot;,&quot;execution_count&quot;:11,&quot;outputs&quot;:[{&quot;data&quot;:{&quot;image/png&quot;:&quot;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\n&quot;,&quot;text/plain&quot;:&quot;<Figure size 432x288 with 1 Axes>&quot;},&quot;metadata&quot;:{&quot;needs_background&quot;:&quot;light&quot;},&quot;output_type&quot;:&quot;display_data&quot;}]},{&quot;metadata&quot;:{&quot;trusted&quot;:true},&quot;cell_type&quot;:&quot;code&quot;,&quot;source&quot;:&quot;#now
lets divide our data to independent and dependent
variable\n\n&quot;,&quot;execution_count&quot;:12,&quot;outputs&quot;:[]},{&quot;metadata&quot;:{&quot;trusted&quot;:true},&quot;cell_type&quot;:&quot;code&quot;,&quot;source&quot;:&quot;X
= data.iloc[:,:+1].values\ny =
data.iloc[:,1].values&quot;,&quot;execution_count&quot;:17,&quot;outputs&quot;:[]},{&quot;metadata&quot;:{&quot;trusted&quot;:true},&quot;cell_type&quot;:&quot;code&quot;,&quot;source&quot;:&quot;from
sklearn.model_selection import train_test_split&quot;,&quot;execution_count&quot;:18,&quot;outputs&quot;:[]},{&quot;metadata&quot;:{&quot;trusted&quot;:true},&quot;cell_type&quot;:&quot;code&quot;,&quot;source&quot;:&quot;X_train,X_test,y_train,y_test
=
train_test_split(X,y,test_size=0.3,random_state=0)&quot;,&quot;execution_count&quot;:40,&quot;outputs&quot;:[]},{&quot;metadata&quot;:{&quot;trusted&quot;:true},&quot;cell_type&quot;:&quot;code&quot;,&quot;source&quot;:&quot;from
sklearn.linear_model import LinearRegression\nreg = LinearRegression()&quot;,&quot;execution_count&quot;:45,&quot;outputs&quot;:[]},{&quot;metadata&quot;:{&quot;trusted&quot;:true},&quot;cell_type&quot;:&quot;code&quot;,&quot;source&quot;:&quot;reg.fit(X_train,y_train)&quot;,&quot;execution_count&quot;:46,&quot;outputs&quot;:[{&quot;data&quot;:{&quot;text/plain&quot;:&quot;LinearRegression()&quot;},&quot;execution_count&quot;:46,&quot;metadata&quot;:{},&quot;output_type&quot;:&quot;execute_result&quot;}]},{&quot;metadata&quot;:{&quot;trusted&quot;:true},&quot;cell_type&quot;:&quot;code&quot;,&quot;source&quot;:&quot;print('training
is
complete')&quot;,&quot;execution_count&quot;:32,&quot;outputs&quot;:[{&quot;name&quot;:&quot;stdout&quot;,&quot;output_type&quot;:&quot;stream&quot;,&quot;text&quot;:&quot;training
is
complete\n&quot;}]},{&quot;metadata&quot;:{&quot;trusted&quot;:true},&quot;cell_type&quot;:&quot;code&quot;,&quot;source&quot;:&quot;l
= reg.coef_*X+reg.intercept_\n#plotting for testing
data\nplt.scatter(X,y)\nplt.plot(X,l)\nplt.show()&quot;,&quot;execution_count&quot;:47,&quot;outputs&quot;:[{&quot;data&quot;:{&quot;image/png&quot;:&quot;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\n&quot;,&quot;text/plain&quot;:&quot;<Figure size 432x288 with 1 Axes>&quot;},&quot;metadata&quot;:{&quot;needs_background&quot;:&quot;light&quot;},&quot;output_type&quot;:&quot;display_data&quot;}]},{&quot;metadata&quot;:{&quot;trusted&quot;:true},&quot;cell_type&quot;:&quot;code&quot;,&quot;source&quot;:&quot;#
to retrive the intercept and coefficient\nprint(\&quot;intercept
is:\&quot;)\nprint(reg.intercept_)\n&quot;,&quot;execution_count&quot;:48,&quot;outputs&quot;:[{&quot;name&quot;:&quot;stdout&quot;,&quot;output_type&quot;:&quot;stream&quot;,&quot;text&quot;:&quot;intercept
is:\n2.3708153823418883\n&quot;}]},{&quot;metadata&quot;:{&quot;trusted&quot;:true},&quot;cell_type&quot;:&quot;code&quot;,&quot;source&quot;:&quot;print(\&quot;coefficient
is :\&quot;)\nprint(reg.coef_)&quot;,&quot;execution_count&quot;:49,&quot;outputs&quot;:[{&quot;name&quot;:&quot;stdout&quot;,&quot;output_type&quot;:&quot;stream&quot;,&quot;text&quot;:&quot;coefficient
is :\n[9.78856669]\n&quot;}]},{&quot;metadata&quot;:{&quot;trusted&quot;:true},&quot;cell_type&quot;:&quot;code&quot;,&quot;source&quot;:&quot;#now
lets make prediction on
data\n&quot;,&quot;execution_count&quot;:50,&quot;outputs&quot;:[]},{&quot;metadata&quot;:{&quot;trusted&quot;:true},&quot;cell_type&quot;:&quot;code&quot;,&quot;source&quot;:&quot;y_pred
= reg.predict(X_test)&quot;,&quot;execution_count&quot;:51,&quot;outputs&quot;:[]},{&quot;metadata&quot;:{&quot;trusted&quot;:true},&quot;cell_type&quot;:&quot;code&quot;,&quot;source&quot;:&quot;y_pred&quot;,&quot;execution_count&quot;:52,&quot;outputs&quot;:[{&quot;data&quot;:{&quot;text/plain&quot;:&quot;array([17.05366541,
33.69422878, 74.80620886, 26.8422321 , 60.12335883,\n 39.56736879, 20.96909209,
78.72163554])&quot;},&quot;execution_count&quot;:52,&quot;metadata&quot;:{},&quot;output_type&quot;:&quot;execute_result&quot;}]},{&quot;metadata&quot;:{&quot;trusted&quot;:true},&quot;cell_type&quot;:&quot;code&quot;,&quot;source&quot;:&quot;#comparing
actual v predicted\ndf= pd.DataFrame({'actual':
y_test,'predicted':y_pred})\ndf\n&quot;,&quot;execution_count&quot;:55,&quot;outputs&quot;:[{&quot;data&quot;:{&quot;text/html&quot;:&quot;<o:p></o:p></span></b></p>

<div>

<p class=MsoNormal><b><span style='mso-fareast-font-family:"Times New Roman"'>\n\n
\n \n actual\n predicted\n \n \n \n \n 0\n 20\n 17.053665\n \n \n 1\n 27\n
33.694229\n \n \n 2\n 69\n 74.806209\n \n \n 3\n 30\n 26.842232\n \n \n 4\n
62\n 60.123359\n \n \n 5\n 35\n 39.567369\n \n \n 6\n 24\n 20.969092\n \n \n
7\n 86\n 78.721636\n \n \n\n<o:p></o:p></span></b></p>

</div>

<p class=MsoNormal><b><span style='mso-fareast-font-family:"Times New Roman"'>&quot;,&quot;text/plain&quot;:&quot;
actual predicted\n0 20 17.053665\n1 27 33.694229\n2 69 74.806209\n3 30
26.842232\n4 62 60.123359\n5 35 39.567369\n6 24 20.969092\n7 86
78.721636&quot;},&quot;execution_count&quot;:55,&quot;metadata&quot;:{},&quot;output_type&quot;:&quot;execute_result&quot;}]},{&quot;metadata&quot;:{&quot;trusted&quot;:true},&quot;cell_type&quot;:&quot;code&quot;,&quot;source&quot;:&quot;#now
lets visualize the predicted and actual
values\nplt.scatter(X_test,y_test)\nplt.xlabel('X values')\nplt.ylabel('y
values')\nplt.title('Testing data actual
values')\nplt.show()\n\n\nplt.scatter(X_test,y_pred,marker='v')\nplt.xlabel('X
values')\nplt.ylabel('y values')\nplt.title('Testing data predicted
values')\nplt.show()&quot;,&quot;execution_count&quot;:56,&quot;outputs&quot;:[{&quot;data&quot;:{&quot;image/png&quot;:&quot;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\n&quot;,&quot;text/plain&quot;:&quot;<Figure size 432x288 with 1 Axes>&quot;},&quot;metadata&quot;:{&quot;needs_background&quot;:&quot;light&quot;},&quot;output_type&quot;:&quot;display_data&quot;},{&quot;data&quot;:{&quot;image/png&quot;:&quot;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\n&quot;,&quot;text/plain&quot;:&quot;<Figure size 432x288 with 1 Axes>&quot;},&quot;metadata&quot;:{&quot;needs_background&quot;:&quot;light&quot;},&quot;output_type&quot;:&quot;display_data&quot;}]},{&quot;metadata&quot;:{&quot;trusted&quot;:true},&quot;cell_type&quot;:&quot;code&quot;,&quot;source&quot;:&quot;#EVALUATING
THE ALGORITHM&quot;,&quot;execution_count&quot;:57,&quot;outputs&quot;:[]},{&quot;metadata&quot;:{&quot;trusted&quot;:true},&quot;cell_type&quot;:&quot;code&quot;,&quot;source&quot;:&quot;from
sklearn import metrics\nprint('Mean Absolute
Error:',metrics.mean_absolute_error(y_test,y_pred))\nprint('Mean Squared Error:',metrics.mean_squared_error(y_test,y_pred))\nprint('Root
Mean Squared
Error:',np.sqrt(metrics.mean_squared_error(y_test,y_pred)))&quot;,&quot;execution_count&quot;:60,&quot;outputs&quot;:[{&quot;name&quot;:&quot;stdout&quot;,&quot;output_type&quot;:&quot;stream&quot;,&quot;text&quot;:&quot;Mean
Absolute Error: 4.419727808027651\nMean Squared Error: 22.965097212700428\nRoot
Mean Squared Error: 4.7921912746363144\n&quot;}]}],&quot;metadata&quot;:{&quot;kernelspec&quot;:{&quot;name&quot;:&quot;python3&quot;,&quot;display_name&quot;:&quot;Python
3&quot;,&quot;language&quot;:&quot;python&quot;},&quot;language_info&quot;:{&quot;name&quot;:&quot;python&quot;,&quot;version&quot;:&quot;3.6.11&quot;,&quot;mimetype&quot;:&quot;text/x-python&quot;,&quot;codemirror_mode&quot;:{&quot;name&quot;:&quot;ipython&quot;,&quot;version&quot;:3},&quot;pygments_lexer&quot;:&quot;ipython3&quot;,&quot;nbconvert_exporter&quot;:&quot;python&quot;,&quot;file_extension&quot;:&quot;.py&quot;}},&quot;nbformat&quot;:4,&quot;nbformat_minor&quot;:4}</span></b><span
style='mso-fareast-font-family:"Times New Roman"'><o:p></o:p></span></p>

</div>

</body>

</html>
